{
 "cells": [
  {
   "cell_type": "markdown",
   "id": "a3637bb9",
   "metadata": {},
   "source": [
    "# **101 Numpy Exercises for Data Analysis (Python)**"
   ]
  },
  {
   "cell_type": "markdown",
   "id": "ded102b4",
   "metadata": {},
   "source": [
    "The goal of the numpy exercises is to serve as a reference as well as to get you to apply numpy beyond the basics. The questions are of 4 levels of difficulties with L1 being the easiest to L4 being the hardest."
   ]
  },
  {
   "cell_type": "markdown",
   "id": "ee0c51cf",
   "metadata": {},
   "source": [
    "**1. Import numpy as np and see the version**  \n",
    "Difficulty Level: L1\n",
    "\n",
    "Q. Import numpy as `np` and print the version number."
   ]
  },
  {
   "cell_type": "code",
   "execution_count": 1,
   "id": "6c07e7c8",
   "metadata": {},
   "outputs": [
    {
     "name": "stdout",
     "output_type": "stream",
     "text": [
      "1.21.0\n"
     ]
    }
   ],
   "source": [
    "import numpy as np\n",
    "print(np.__version__)"
   ]
  },
  {
   "cell_type": "markdown",
   "id": "c1a67259",
   "metadata": {},
   "source": [
    "**2 How to create a 1D array?**\n",
    "\n",
    "Difficulty Level: L1\n",
    "\n",
    "Q. Create a 1D array of numbers from 0 to 9\n",
    "\n",
    "Desired output:\n",
    "\n",
    "#> array([0, 1, 2, 3, 4, 5, 6, 7, 8, 9])"
   ]
  },
  {
   "cell_type": "code",
   "execution_count": 7,
   "id": "c7043fed",
   "metadata": {},
   "outputs": [
    {
     "data": {
      "text/plain": [
       "array([0, 1, 2, 3, 4, 5, 6, 7, 8, 9])"
      ]
     },
     "execution_count": 7,
     "metadata": {},
     "output_type": "execute_result"
    }
   ],
   "source": [
    "np.arange(10)"
   ]
  },
  {
   "cell_type": "markdown",
   "id": "d7e1e13d",
   "metadata": {},
   "source": [
    "**3. How to create a boolean array?**\n",
    "\n",
    "Difficulty Level: L1\n",
    "\n",
    "Q. Create a 3×3 numpy array of all True’s"
   ]
  },
  {
   "cell_type": "code",
   "execution_count": 14,
   "id": "1cf50d20",
   "metadata": {},
   "outputs": [
    {
     "data": {
      "text/plain": [
       "array([[ True,  True,  True],\n",
       "       [ True,  True,  True],\n",
       "       [ True,  True,  True]])"
      ]
     },
     "execution_count": 14,
     "metadata": {},
     "output_type": "execute_result"
    }
   ],
   "source": [
    "np.full((3,3), True, dtype = 'bool')\n",
    "\n",
    "# or\n",
    "# np.ones((3,3), dtype = 'bool') \n"
   ]
  },
  {
   "cell_type": "markdown",
   "id": "10df85e5",
   "metadata": {},
   "source": [
    "**4. How to extract items that satisfy a given condition from 1D array?** \n",
    "\n",
    "Difficulty Level: L1\n",
    "\n",
    "Q. Extract all odd numbers from arr\n",
    "\n",
    "Input:\n",
    "\n",
    "arr = np.array([0, 1, 2, 3, 4, 5, 6, 7, 8, 9])\n",
    "\n",
    "Desired output:\n",
    "\n",
    "#> array([1, 3, 5, 7, 9])"
   ]
  },
  {
   "cell_type": "code",
   "execution_count": 15,
   "id": "74a3d2cb",
   "metadata": {},
   "outputs": [
    {
     "data": {
      "text/plain": [
       "array([0, 1, 0, 1, 0, 1, 0, 1, 0, 1])"
      ]
     },
     "execution_count": 15,
     "metadata": {},
     "output_type": "execute_result"
    }
   ],
   "source": [
    "arr = np.array([0, 1, 2, 3, 4, 5, 6, 7, 8, 9])\n"
   ]
  },
  {
   "cell_type": "code",
   "execution_count": 17,
   "id": "bcc30f38",
   "metadata": {},
   "outputs": [
    {
     "data": {
      "text/plain": [
       "array([1, 3, 5, 7, 9])"
      ]
     },
     "execution_count": 17,
     "metadata": {},
     "output_type": "execute_result"
    }
   ],
   "source": [
    "arr[arr%2==1]"
   ]
  },
  {
   "cell_type": "markdown",
   "id": "c0880ee3",
   "metadata": {},
   "source": [
    "**5. How to replace items that satisfy a condition with another value in numpy array?**\n",
    "\n",
    "Difficulty Level: L1\n",
    "\n",
    "Q. Replace all odd numbers in arr with -1\n",
    "\n",
    "Input:\n",
    "\n",
    "arr = np.array([0, 1, 2, 3, 4, 5, 6, 7, 8, 9])\n",
    "\n",
    "Desired Output:\n",
    "\n",
    "#>  array([ 0, -1,  2, -1,  4, -1,  6, -1,  8, -1])"
   ]
  },
  {
   "cell_type": "code",
   "execution_count": 21,
   "id": "f2e5a6e4",
   "metadata": {},
   "outputs": [
    {
     "data": {
      "text/plain": [
       "array([ 0, -1,  2, -1,  4, -1,  6, -1,  8, -1])"
      ]
     },
     "execution_count": 21,
     "metadata": {},
     "output_type": "execute_result"
    }
   ],
   "source": [
    "arr[arr%2==1]=-1\n",
    "arr"
   ]
  },
  {
   "cell_type": "markdown",
   "id": "025c9f92",
   "metadata": {},
   "source": [
    "**6. How to replace items that satisfy a condition without affecting the original array?**\n",
    "\n",
    "Difficulty Level: L2\n",
    "\n",
    "Q. Replace all odd numbers in arr with -1 without changing arr\n",
    "\n",
    "Input:\n",
    "\n",
    "arr = np.array([0, 1, 2, 3, 4, 5, 6, 7, 8, 9])\n",
    "\n",
    "Desired Output:\n",
    "\n",
    "out\n",
    "#>  array([ 0, -1,  2, -1,  4, -1,  6, -1,  8, -1])\n",
    "\n",
    "arr\n",
    "#>  array([0, 1, 2, 3, 4, 5, 6, 7, 8, 9])"
   ]
  },
  {
   "cell_type": "code",
   "execution_count": 28,
   "id": "7bd6979d",
   "metadata": {},
   "outputs": [
    {
     "name": "stdout",
     "output_type": "stream",
     "text": [
      "[ 0 -1  2 -1  4 -1  6 -1  8 -1]\n",
      "[0 1 2 3 4 5 6 7 8 9]\n"
     ]
    }
   ],
   "source": [
    "arr = np.array([0, 1, 2, 3, 4, 5, 6, 7, 8, 9])\n",
    "arr_copy = arr.copy()\n",
    "arr_copy[arr_copy%2==1] = -1\n",
    "print(arr_copy)\n",
    "print(arr)"
   ]
  },
  {
   "cell_type": "code",
   "execution_count": 41,
   "id": "7acfb168",
   "metadata": {},
   "outputs": [
    {
     "name": "stdout",
     "output_type": "stream",
     "text": [
      "[ 0 -1  2 -1  4 -1  6 -1  8 -1]\n",
      "[0 1 2 3 4 5 6 7 8 9]\n"
     ]
    }
   ],
   "source": [
    "print(np.where(arr%2==0, arr, -1))\n",
    "print(arr)"
   ]
  },
  {
   "cell_type": "markdown",
   "id": "40f4ef79",
   "metadata": {},
   "source": [
    "**_Lessons_**\n",
    "\n",
    "In this code, I learnt about np.where which takes a condition in this case arr%2==0\n",
    "the second arguement is arr, which is the array where the condition is checked,\n",
    "the third element, in this case -1, is the value that is returned when the condition fails on the first array\n",
    "\n",
    "NOTE, the two arrays are broadcasted to match.\n",
    "\n",
    "an alternative to the code written below is:  \n",
    "`print(np.where(arr%2==1, -1, arr))`"
   ]
  },
  {
   "cell_type": "markdown",
   "id": "0d0d080b",
   "metadata": {},
   "source": [
    "**7. How to reshape an array?**\n",
    "\n",
    "Difficulty Level: L1\n",
    "\n",
    "Q. Convert a 1D array to a 2D array with 2 rows\n",
    "\n",
    "Input:\n",
    "\n",
    "np.arange(10)\n",
    "\n",
    "#> array([ 0, 1, 2, 3, 4, 5, 6, 7, 8, 9])\n",
    "\n",
    "Desired Output:\n",
    "\n",
    "#> array([[0, 1, 2, 3, 4],  \n",
    "#>          [5, 6, 7, 8, 9]])"
   ]
  },
  {
   "cell_type": "code",
   "execution_count": 44,
   "id": "b21a8f56",
   "metadata": {},
   "outputs": [
    {
     "name": "stdout",
     "output_type": "stream",
     "text": [
      "[0 1 2 3 4 5 6 7 8 9]\n",
      "[[0 1 2 3 4]\n",
      " [5 6 7 8 9]]\n"
     ]
    }
   ],
   "source": [
    "arr = np.arange(10)\n",
    "print(arr)\n",
    "print(arr.reshape(2,-1))"
   ]
  },
  {
   "cell_type": "markdown",
   "id": "f2254ef5",
   "metadata": {},
   "source": [
    "**8. How to stack two arrays vertically?**\n",
    "\n",
    "Difficulty Level: L2\n",
    "\n",
    "Q. Stack arrays a and b vertically\n",
    "\n",
    "Input\n",
    "\n",
    "a = np.arange(10).reshape(2,-1)\n",
    "\n",
    "b = np.repeat(1, 10).reshape(2,-1)\n",
    "\n",
    "Desired Output:\n",
    "\n",
    "#> array([[0, 1, 2, 3, 4],\n",
    "\n",
    "#>        [5, 6, 7, 8, 9],\n",
    "\n",
    "#>        [1, 1, 1, 1, 1],\n",
    "\n",
    "#>        [1, 1, 1, 1, 1]]"
   ]
  },
  {
   "cell_type": "code",
   "execution_count": 49,
   "id": "d12f9a73",
   "metadata": {},
   "outputs": [
    {
     "data": {
      "text/plain": [
       "array([[0, 1, 2, 3, 4],\n",
       "       [5, 6, 7, 8, 9],\n",
       "       [1, 1, 1, 1, 1],\n",
       "       [1, 1, 1, 1, 1]])"
      ]
     },
     "execution_count": 49,
     "metadata": {},
     "output_type": "execute_result"
    }
   ],
   "source": [
    "a = np.arange(10).reshape(2,-1)\n",
    "b = np.repeat(1,10).reshape(2,-1)\n",
    "np.vstack((a,b))"
   ]
  },
  {
   "cell_type": "markdown",
   "id": "7f887ac6",
   "metadata": {},
   "source": [
    "**_Lessons_**  \n",
    "1). Learnt about `np.repeat`\n",
    "\n",
    "2). `np.vstack` takes a tuple as its arguements and not just a bare list of arguements\n",
    "\n",
    "*other solutions:*"
   ]
  },
  {
   "cell_type": "code",
   "execution_count": null,
   "id": "91104479",
   "metadata": {},
   "outputs": [],
   "source": [
    "# solution 2\n"
   ]
  }
 ],
 "metadata": {
  "kernelspec": {
   "display_name": "data",
   "language": "python",
   "name": "data"
  },
  "language_info": {
   "codemirror_mode": {
    "name": "ipython",
    "version": 3
   },
   "file_extension": ".py",
   "mimetype": "text/x-python",
   "name": "python",
   "nbconvert_exporter": "python",
   "pygments_lexer": "ipython3",
   "version": "3.8.5"
  }
 },
 "nbformat": 4,
 "nbformat_minor": 5
}
