{
  "nbformat": 4,
  "nbformat_minor": 0,
  "metadata": {
    "colab": {
      "name": "Untitled3.ipynb",
      "provenance": [],
      "authorship_tag": "ABX9TyMROhw02UoktZmUveueq4BP"
    },
    "kernelspec": {
      "name": "python3",
      "display_name": "Python 3"
    },
    "language_info": {
      "name": "python"
    }
  },
  "cells": [
    {
      "cell_type": "code",
      "metadata": {
        "id": "ZNB3vy1gHlZ2"
      },
      "source": [
        "import numpy as np\n",
        "np.random.seed(0)"
      ],
      "execution_count": 2,
      "outputs": []
    },
    {
      "cell_type": "markdown",
      "metadata": {
        "id": "549l7NhXJ6Y9"
      },
      "source": [
        "this function calculates the reciprical of values inside a numpy array one by one and then outputs the values."
      ]
    },
    {
      "cell_type": "code",
      "metadata": {
        "id": "9bPFfnX_Jcxb",
        "outputId": "0adb02c0-cee4-45df-ed11-1f07f93d513e",
        "colab": {
          "base_uri": "https://localhost:8080/"
        }
      },
      "source": [
        "def reciprical(values):\n",
        "    output = np.empty(len(values))\n",
        "    for i in range(len(values)):\n",
        "        output[i]=1.0/values[i]\n",
        "    return output\n",
        "\n",
        "values = np.random.randint(1,10,size=5)\n",
        "reciprical(values)"
      ],
      "execution_count": 5,
      "outputs": [
        {
          "output_type": "execute_result",
          "data": {
            "text/plain": [
              "array([0.14285714, 0.11111111, 0.11111111, 0.5       , 0.14285714])"
            ]
          },
          "metadata": {
            "tags": []
          },
          "execution_count": 5
        }
      ]
    },
    {
      "cell_type": "markdown",
      "metadata": {
        "id": "oFn-9vTYK5hU"
      },
      "source": [
        "the operation seems to run in **normal** time. But this is not the case for very *big arrays*, observe:"
      ]
    },
    {
      "cell_type": "code",
      "metadata": {
        "id": "Q3jKaqJOKzZH",
        "outputId": "2a68233f-3512-476d-e5e0-e141e4b69255",
        "colab": {
          "base_uri": "https://localhost:8080/"
        }
      },
      "source": [
        "big_array = np.random.randint(1,100, size = 1000000)\n",
        "%timeit reciprical(big_array)"
      ],
      "execution_count": 6,
      "outputs": [
        {
          "output_type": "stream",
          "text": [
            "1 loop, best of 5: 2.24 s per loop\n"
          ],
          "name": "stdout"
        }
      ]
    },
    {
      "cell_type": "markdown",
      "metadata": {
        "id": "9dfsyjSNLuZP"
      },
      "source": [
        "Python is slow in this operatin because of it dynamic typing. The execution itself is  not so expensive as the cost of type-checking done by the interpreter in the background. Thus, with a compiled languare like C or Java, the code runs much faster because it is statically typed"
      ]
    },
    {
      "cell_type": "markdown",
      "metadata": {
        "id": "e-ufeI1qN75L"
      },
      "source": [
        "###Intro to UFuncs\n",
        "This is where Numpy UFuncs come into play. Numpy provides a feature that allows us to perform the operations for the statically typed numpy arrays. This is known as *Vectorization*. This is where you simply apply an operation to the array rather to than to each individual element in the array using a loop as we saw earlier. The vectorization approacehs pushes the executio of the loop to compile time which save a lot of time."
      ]
    },
    {
      "cell_type": "code",
      "metadata": {
        "id": "SFd07_AuNt0r",
        "outputId": "5d7a9943-1484-4c6d-858b-52e3673293cf",
        "colab": {
          "base_uri": "https://localhost:8080/"
        }
      },
      "source": [
        "# using a for loop\n",
        "print(\"Function:     \",reciprical(values))\n",
        "# using vectorization\n",
        "print(\"Vectorization:\",1.0/values)"
      ],
      "execution_count": 10,
      "outputs": [
        {
          "output_type": "stream",
          "text": [
            "Function:      [0.14285714 0.11111111 0.11111111 0.5        0.14285714]\n",
            "Vectorization: [0.14285714 0.11111111 0.11111111 0.5        0.14285714]\n"
          ],
          "name": "stdout"
        }
      ]
    },
    {
      "cell_type": "code",
      "metadata": {
        "id": "50vmXA_nLjJ1",
        "outputId": "2f801efc-4c9c-4e42-89b7-717ae0517781",
        "colab": {
          "base_uri": "https://localhost:8080/"
        }
      },
      "source": [
        "%timeit(1.0/big_array)"
      ],
      "execution_count": 11,
      "outputs": [
        {
          "output_type": "stream",
          "text": [
            "1000 loops, best of 5: 1.59 ms per loop\n"
          ],
          "name": "stdout"
        }
      ]
    },
    {
      "cell_type": "markdown",
      "metadata": {
        "id": "opxCxRzJPqWf"
      },
      "source": [
        "Even more, UFuncs can be used between an array and an array, observe:"
      ]
    },
    {
      "cell_type": "code",
      "metadata": {
        "id": "4OPCS3VEPjVN",
        "outputId": "1ac1edef-d8e6-4e7c-d888-d690f85630bf",
        "colab": {
          "base_uri": "https://localhost:8080/"
        }
      },
      "source": [
        "np.arange(5)/np.arange(1,6)"
      ],
      "execution_count": 12,
      "outputs": [
        {
          "output_type": "execute_result",
          "data": {
            "text/plain": [
              "array([0.        , 0.5       , 0.66666667, 0.75      , 0.8       ])"
            ]
          },
          "metadata": {
            "tags": []
          },
          "execution_count": 12
        }
      ]
    },
    {
      "cell_type": "markdown",
      "metadata": {
        "id": "6S_saNj8QOOw"
      },
      "source": [
        "Ufuncs can also operate on multi-dimensional arrays"
      ]
    },
    {
      "cell_type": "code",
      "metadata": {
        "id": "WtNj4fc0P6TF",
        "outputId": "c69aeb29-8279-4237-9551-6f1a333596a5",
        "colab": {
          "base_uri": "https://localhost:8080/"
        }
      },
      "source": [
        "x=np.arange(9).reshape((3,3))\n",
        "print(x)\n",
        "2**x"
      ],
      "execution_count": 14,
      "outputs": [
        {
          "output_type": "stream",
          "text": [
            "[[0 1 2]\n",
            " [3 4 5]\n",
            " [6 7 8]]\n"
          ],
          "name": "stdout"
        },
        {
          "output_type": "execute_result",
          "data": {
            "text/plain": [
              "array([[  1,   2,   4],\n",
              "       [  8,  16,  32],\n",
              "       [ 64, 128, 256]])"
            ]
          },
          "metadata": {
            "tags": []
          },
          "execution_count": 14
        }
      ]
    },
    {
      "cell_type": "code",
      "metadata": {
        "id": "UJBtUIWoQJhu"
      },
      "source": [
        ""
      ],
      "execution_count": null,
      "outputs": []
    }
  ]
}