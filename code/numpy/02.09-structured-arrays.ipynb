{
 "cells": [
  {
   "cell_type": "code",
   "execution_count": 1,
   "id": "760e7561",
   "metadata": {},
   "outputs": [],
   "source": [
    "import numpy as np"
   ]
  },
  {
   "cell_type": "markdown",
   "id": "191a2e6e",
   "metadata": {},
   "source": [
    "Remember that numpy arrays are used to store only homogenous data. For example if we have an array `arr = np.array([1,2,3,4])`, the `dtype` is `int`. `arr` cannot store any other data type in it.\n",
    "\n",
    "But now, with structured arrays, we have the ability to store different kinds of data in one array. Let us say for example that we have different categories of data like name, age and weight that we want to store. This can be done in three different arrays:"
   ]
  },
  {
   "cell_type": "code",
   "execution_count": 2,
   "id": "20b198a1",
   "metadata": {},
   "outputs": [],
   "source": [
    "name = ['Alice', 'Bob','Cathy','Doug']\n",
    "age = [25,45,37,19]\n",
    "weight = [55.0,85.5,68.0,61.5]"
   ]
  },
  {
   "cell_type": "markdown",
   "id": "60827bd3",
   "metadata": {},
   "source": [
    "But this is a bit clumsy and in no wise suggests that the three lists are related. For example, we might have it that \"Alice\" is 25 years old and 55.0 kgs. But the lists are independent of each other and are not linked. Thus, it would be well to have one structure to store and represent all this data. This is where `structured arrays` come in.\n",
    "\n",
    "Remember that we can create a simple array as follows \n",
    "\n",
    "`x = np.zeros(4, dtype=int)`\n",
    "\n",
    "We can similarly create a structured array using a compound data type specification as follows:"
   ]
  },
  {
   "cell_type": "code",
   "execution_count": 3,
   "id": "da62df09",
   "metadata": {},
   "outputs": [
    {
     "name": "stdout",
     "output_type": "stream",
     "text": [
      "[('name', '<U10'), ('age', '<i4'), ('weight', '<f8')]\n"
     ]
    }
   ],
   "source": [
    "data = np.zeros(4, dtype = {'names':('name','age','weight'),\n",
    "                            'formats':('U10', 'i4', 'f8')})\n",
    "print(data.dtype)"
   ]
  },
  {
   "cell_type": "markdown",
   "id": "668f1c59",
   "metadata": {},
   "source": [
    "here, `'U10'` means a \"Unicode string of maximum lengths 10\", `i4` means \"4-byte(32 bit) integer\" , and `'f8'` translates to \"8-byte (64 bit) float\"\n",
    "\n",
    "Since we have created an empty container array, we can now populate it with the list of values"
   ]
  },
  {
   "cell_type": "code",
   "execution_count": 4,
   "id": "3d80b72a",
   "metadata": {},
   "outputs": [
    {
     "name": "stdout",
     "output_type": "stream",
     "text": [
      "[('Alice', 25, 55. ) ('Bob', 45, 85.5) ('Cathy', 37, 68. )\n",
      " ('Doug', 19, 61.5)]\n"
     ]
    }
   ],
   "source": [
    "data['name']=name\n",
    "data['age']=age\n",
    "data['weight']=weight\n",
    "print(data)"
   ]
  },
  {
   "cell_type": "code",
   "execution_count": 5,
   "id": "b49209c8",
   "metadata": {},
   "outputs": [
    {
     "data": {
      "text/plain": [
       "array(['Alice', 'Bob', 'Cathy', 'Doug'], dtype='<U10')"
      ]
     },
     "execution_count": 5,
     "metadata": {},
     "output_type": "execute_result"
    }
   ],
   "source": [
    "data['name']"
   ]
  },
  {
   "cell_type": "code",
   "execution_count": 6,
   "id": "37d35cb4",
   "metadata": {},
   "outputs": [
    {
     "data": {
      "text/plain": [
       "('Alice', 25, 55.)"
      ]
     },
     "execution_count": 6,
     "metadata": {},
     "output_type": "execute_result"
    }
   ],
   "source": [
    "data[0]"
   ]
  },
  {
   "cell_type": "code",
   "execution_count": 7,
   "id": "012c9d54",
   "metadata": {},
   "outputs": [
    {
     "data": {
      "text/plain": [
       "'Doug'"
      ]
     },
     "execution_count": 7,
     "metadata": {},
     "output_type": "execute_result"
    }
   ],
   "source": [
    "data[-1]['name']"
   ]
  },
  {
   "cell_type": "code",
   "execution_count": 8,
   "id": "3313cda4",
   "metadata": {},
   "outputs": [
    {
     "data": {
      "text/plain": [
       "array(['Alice', 'Doug'], dtype='<U10')"
      ]
     },
     "execution_count": 8,
     "metadata": {},
     "output_type": "execute_result"
    }
   ],
   "source": [
    "data[data['age']<30]['name']"
   ]
  },
  {
   "cell_type": "markdown",
   "id": "e3887168",
   "metadata": {},
   "source": [
    "# Creating Structured Arrays\n",
    "Data types for structured arrays can be defined in a number of ways. We have seen the dictionary method earlier."
   ]
  },
  {
   "cell_type": "code",
   "execution_count": 9,
   "id": "852df576",
   "metadata": {},
   "outputs": [
    {
     "data": {
      "text/plain": [
       "dtype([('name', '<U10'), ('age', '<i4'), ('weight', '<f8')])"
      ]
     },
     "execution_count": 9,
     "metadata": {},
     "output_type": "execute_result"
    }
   ],
   "source": [
    "np.dtype({'names':('name','age','weight'),\n",
    "          'formats':('U10', 'i4', 'f8')})"
   ]
  },
  {
   "cell_type": "markdown",
   "id": "a6a7afe5",
   "metadata": {},
   "source": [
    "\\- Using python NumPy `dtypes` or Python types"
   ]
  },
  {
   "cell_type": "code",
   "execution_count": 10,
   "id": "bf6a6f1e",
   "metadata": {},
   "outputs": [
    {
     "data": {
      "text/plain": [
       "dtype([('name', '<U10'), ('age', '<i8'), ('weight', '<f4')])"
      ]
     },
     "execution_count": 10,
     "metadata": {},
     "output_type": "execute_result"
    }
   ],
   "source": [
    "np.dtype({'names':('name','age', 'weight'),\n",
    "          'formats':((np.str_,10),int,np.float32)})"
   ]
  },
  {
   "cell_type": "markdown",
   "id": "b48f784a",
   "metadata": {},
   "source": [
    "\\- Using a list of tuples"
   ]
  },
  {
   "cell_type": "code",
   "execution_count": 11,
   "id": "c268ecf2",
   "metadata": {},
   "outputs": [
    {
     "data": {
      "text/plain": [
       "dtype([('name', 'S10'), ('age', '<i4'), ('weight', '<f8')])"
      ]
     },
     "execution_count": 11,
     "metadata": {},
     "output_type": "execute_result"
    }
   ],
   "source": [
    "np.dtype([('name', 'S10'),('age','i4'),('weight','f8')])"
   ]
  },
  {
   "cell_type": "markdown",
   "id": "18962f21",
   "metadata": {},
   "source": [
    "# More Advanced Compound Types\n",
    "below we have an example that has a type where each element contains an array or matrix of values. `mat` is used to declare a matrix and the shape is 3x3"
   ]
  },
  {
   "cell_type": "code",
   "execution_count": 12,
   "id": "af85af86",
   "metadata": {},
   "outputs": [
    {
     "name": "stdout",
     "output_type": "stream",
     "text": [
      "(0, [[0., 0., 0.], [0., 0., 0.], [0., 0., 0.]])\n",
      "[[0. 0. 0.]\n",
      " [0. 0. 0.]\n",
      " [0. 0. 0.]]\n"
     ]
    }
   ],
   "source": [
    "tp = np.dtype([('id','i8'),('mat', 'f8', (3,3))])\n",
    "X = np.zeros(1,dtype=tp)\n",
    "print(X[0])\n",
    "print(X['mat'][0])"
   ]
  },
  {
   "cell_type": "markdown",
   "id": "8f063fc5",
   "metadata": {},
   "source": [
    "# RecordArrays: Structured Arrays with a Twist"
   ]
  },
  {
   "cell_type": "code",
   "execution_count": 13,
   "id": "c67f9d81",
   "metadata": {},
   "outputs": [
    {
     "data": {
      "text/plain": [
       "array([25, 45, 37, 19], dtype=int32)"
      ]
     },
     "execution_count": 13,
     "metadata": {},
     "output_type": "execute_result"
    }
   ],
   "source": [
    "data['age']"
   ]
  },
  {
   "cell_type": "code",
   "execution_count": 14,
   "id": "ba12ccbf",
   "metadata": {},
   "outputs": [
    {
     "data": {
      "text/plain": [
       "array(['Alice', 'Bob', 'Cathy', 'Doug'], dtype='<U10')"
      ]
     },
     "execution_count": 14,
     "metadata": {},
     "output_type": "execute_result"
    }
   ],
   "source": [
    "data['name']"
   ]
  },
  {
   "cell_type": "code",
   "execution_count": 15,
   "id": "7dc07771",
   "metadata": {},
   "outputs": [
    {
     "data": {
      "text/plain": [
       "array([55. , 85.5, 68. , 61.5])"
      ]
     },
     "execution_count": 15,
     "metadata": {},
     "output_type": "execute_result"
    }
   ],
   "source": [
    "data['weight']"
   ]
  }
 ],
 "metadata": {
  "kernelspec": {
   "display_name": "data",
   "language": "python",
   "name": "data"
  },
  "language_info": {
   "codemirror_mode": {
    "name": "ipython",
    "version": 3
   },
   "file_extension": ".py",
   "mimetype": "text/x-python",
   "name": "python",
   "nbconvert_exporter": "python",
   "pygments_lexer": "ipython3",
   "version": "3.8.5"
  }
 },
 "nbformat": 4,
 "nbformat_minor": 5
}
