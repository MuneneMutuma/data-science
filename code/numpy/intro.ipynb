{
  "nbformat": 4,
  "nbformat_minor": 5,
  "metadata": {
    "kernelspec": {
      "name": "python3",
      "display_name": "Python 3"
    },
    "colab": {
      "name": "intro.ipynb",
      "provenance": []
    },
    "language_info": {
      "name": "python"
    }
  },
  "cells": [
    {
      "cell_type": "code",
      "metadata": {
        "id": "0737c37a"
      },
      "source": [
        "import numpy as np"
      ],
      "id": "0737c37a",
      "execution_count": 3,
      "outputs": []
    },
    {
      "cell_type": "code",
      "metadata": {
        "id": "c308d058"
      },
      "source": [
        "np.random.seed(0)"
      ],
      "id": "c308d058",
      "execution_count": 4,
      "outputs": []
    },
    {
      "cell_type": "code",
      "metadata": {
        "id": "fb52c9a8",
        "outputId": "45838a09-2d7a-4bc6-a52a-68b79af769b6",
        "colab": {
          "base_uri": "https://localhost:8080/"
        }
      },
      "source": [
        "!pwd"
      ],
      "id": "fb52c9a8",
      "execution_count": 5,
      "outputs": [
        {
          "output_type": "stream",
          "text": [
            "/content\n"
          ],
          "name": "stdout"
        }
      ]
    },
    {
      "cell_type": "code",
      "metadata": {
        "id": "493e8bc9"
      },
      "source": [
        "x1 = np.random.randint(10,size=6) # One-dimensional array\n",
        "x2 = np.random.randint(10,size=(3,4)) #Two-dimensional array\n",
        "x3 = np.random.randint(10,size=(3,4,5)) #Three-dimensional array"
      ],
      "id": "493e8bc9",
      "execution_count": 6,
      "outputs": []
    },
    {
      "cell_type": "code",
      "metadata": {
        "id": "bf8ea67d",
        "outputId": "b18ab6bd-e4f5-4142-e773-fe986ed82ee3",
        "colab": {
          "base_uri": "https://localhost:8080/"
        }
      },
      "source": [
        "print(\"x3 ndim:\", x3.ndim)\n",
        "print(\"x3 shape:\", x3.shape)\n",
        "print(\"x3 size:\", x3.size)"
      ],
      "id": "bf8ea67d",
      "execution_count": 7,
      "outputs": [
        {
          "output_type": "stream",
          "text": [
            "x3 ndim: 3\n",
            "x3 shape: (3, 4, 5)\n",
            "x3 size: 60\n"
          ],
          "name": "stdout"
        }
      ]
    },
    {
      "cell_type": "code",
      "metadata": {
        "id": "544a51c8",
        "outputId": "801a1112-55eb-43df-b16b-ace939b887bf",
        "colab": {
          "base_uri": "https://localhost:8080/"
        }
      },
      "source": [
        "print(\"dtype:\", x3.dtype)"
      ],
      "id": "544a51c8",
      "execution_count": 8,
      "outputs": [
        {
          "output_type": "stream",
          "text": [
            "dtype: int64\n"
          ],
          "name": "stdout"
        }
      ]
    },
    {
      "cell_type": "code",
      "metadata": {
        "id": "be47af70",
        "outputId": "672a46c1-ee49-4f3d-8a83-4c6400b503dd",
        "colab": {
          "base_uri": "https://localhost:8080/"
        }
      },
      "source": [
        "print(\"itemsize:\", x3.itemsize, \"bytes\")\n",
        "print(\"nbytes:\", x3.nbytes, \"bytes\")"
      ],
      "id": "be47af70",
      "execution_count": 9,
      "outputs": [
        {
          "output_type": "stream",
          "text": [
            "itemsize: 8 bytes\n",
            "nbytes: 480 bytes\n"
          ],
          "name": "stdout"
        }
      ]
    },
    {
      "cell_type": "code",
      "metadata": {
        "id": "fe54d35c",
        "outputId": "2f8494be-aaff-4ab5-b73f-54c524672a8c",
        "colab": {
          "base_uri": "https://localhost:8080/"
        }
      },
      "source": [
        "x1"
      ],
      "id": "fe54d35c",
      "execution_count": 10,
      "outputs": [
        {
          "output_type": "execute_result",
          "data": {
            "text/plain": [
              "array([5, 0, 3, 3, 7, 9])"
            ]
          },
          "metadata": {
            "tags": []
          },
          "execution_count": 10
        }
      ]
    },
    {
      "cell_type": "code",
      "metadata": {
        "id": "12eca049",
        "outputId": "01c27eb3-c40e-4ec2-fb79-c8ed0393fe87",
        "colab": {
          "base_uri": "https://localhost:8080/"
        }
      },
      "source": [
        "x1[0]"
      ],
      "id": "12eca049",
      "execution_count": 11,
      "outputs": [
        {
          "output_type": "execute_result",
          "data": {
            "text/plain": [
              "5"
            ]
          },
          "metadata": {
            "tags": []
          },
          "execution_count": 11
        }
      ]
    },
    {
      "cell_type": "code",
      "metadata": {
        "id": "2ca93ea2",
        "outputId": "3d698dea-3cd7-4c81-a13a-bc71a6955c20",
        "colab": {
          "base_uri": "https://localhost:8080/"
        }
      },
      "source": [
        "x1[4]"
      ],
      "id": "2ca93ea2",
      "execution_count": 12,
      "outputs": [
        {
          "output_type": "execute_result",
          "data": {
            "text/plain": [
              "7"
            ]
          },
          "metadata": {
            "tags": []
          },
          "execution_count": 12
        }
      ]
    },
    {
      "cell_type": "code",
      "metadata": {
        "id": "ade2351f",
        "outputId": "d7bd5153-a429-4c74-96ca-8c98a0fb95fb",
        "colab": {
          "base_uri": "https://localhost:8080/"
        }
      },
      "source": [
        "x1[-2]"
      ],
      "id": "ade2351f",
      "execution_count": 13,
      "outputs": [
        {
          "output_type": "execute_result",
          "data": {
            "text/plain": [
              "7"
            ]
          },
          "metadata": {
            "tags": []
          },
          "execution_count": 13
        }
      ]
    },
    {
      "cell_type": "code",
      "metadata": {
        "id": "062d5a14",
        "outputId": "aef3656f-c7cf-46c5-b84b-9642202f1cb9",
        "colab": {
          "base_uri": "https://localhost:8080/"
        }
      },
      "source": [
        "x2"
      ],
      "id": "062d5a14",
      "execution_count": 14,
      "outputs": [
        {
          "output_type": "execute_result",
          "data": {
            "text/plain": [
              "array([[3, 5, 2, 4],\n",
              "       [7, 6, 8, 8],\n",
              "       [1, 6, 7, 7]])"
            ]
          },
          "metadata": {
            "tags": []
          },
          "execution_count": 14
        }
      ]
    },
    {
      "cell_type": "code",
      "metadata": {
        "id": "bc38065d",
        "outputId": "3531d4d5-70f6-4e30-8625-84934d2cebdf",
        "colab": {
          "base_uri": "https://localhost:8080/"
        }
      },
      "source": [
        "# in a two-dimensional array, teh values can be accessed\n",
        "# using comma separated tuple of indices\n",
        "# the first one refers to the first dimension(the outermost), \n",
        "# i.e the row in the case of a two dimensional array\n",
        "x2[0,0]"
      ],
      "id": "bc38065d",
      "execution_count": 15,
      "outputs": [
        {
          "output_type": "execute_result",
          "data": {
            "text/plain": [
              "3"
            ]
          },
          "metadata": {
            "tags": []
          },
          "execution_count": 15
        }
      ]
    },
    {
      "cell_type": "code",
      "metadata": {
        "id": "8c50be23",
        "outputId": "d23c4f8a-ed71-44fb-d625-ca7ecc895e61",
        "colab": {
          "base_uri": "https://localhost:8080/"
        }
      },
      "source": [
        "x2[2,3]"
      ],
      "id": "8c50be23",
      "execution_count": 16,
      "outputs": [
        {
          "output_type": "execute_result",
          "data": {
            "text/plain": [
              "7"
            ]
          },
          "metadata": {
            "tags": []
          },
          "execution_count": 16
        }
      ]
    },
    {
      "cell_type": "code",
      "metadata": {
        "id": "3d3cdd9f",
        "outputId": "4fc9d170-ccc9-463b-a483-fa43b7d662fb",
        "colab": {
          "base_uri": "https://localhost:8080/"
        }
      },
      "source": [
        "x2[-3,-1]"
      ],
      "id": "3d3cdd9f",
      "execution_count": 17,
      "outputs": [
        {
          "output_type": "execute_result",
          "data": {
            "text/plain": [
              "4"
            ]
          },
          "metadata": {
            "tags": []
          },
          "execution_count": 17
        }
      ]
    },
    {
      "cell_type": "code",
      "metadata": {
        "id": "4fdb7c94",
        "outputId": "ef11c049-91d3-46e5-fe1d-8b2f2e470e76",
        "colab": {
          "base_uri": "https://localhost:8080/"
        }
      },
      "source": [
        "# values can also be changed through indexing\n",
        "x2[0,0]=10\n",
        "x2"
      ],
      "id": "4fdb7c94",
      "execution_count": 18,
      "outputs": [
        {
          "output_type": "execute_result",
          "data": {
            "text/plain": [
              "array([[10,  5,  2,  4],\n",
              "       [ 7,  6,  8,  8],\n",
              "       [ 1,  6,  7,  7]])"
            ]
          },
          "metadata": {
            "tags": []
          },
          "execution_count": 18
        }
      ]
    },
    {
      "cell_type": "markdown",
      "metadata": {
        "id": "4bf6ffbd"
      },
      "source": [
        "## One-Dimensional Subarrays"
      ],
      "id": "4bf6ffbd"
    },
    {
      "cell_type": "code",
      "metadata": {
        "id": "6269e6a7",
        "outputId": "f1e61029-0d2e-491e-a56a-50e5d1d28fdd",
        "colab": {
          "base_uri": "https://localhost:8080/"
        }
      },
      "source": [
        "x = np.arange(10)\n",
        "x"
      ],
      "id": "6269e6a7",
      "execution_count": 19,
      "outputs": [
        {
          "output_type": "execute_result",
          "data": {
            "text/plain": [
              "array([0, 1, 2, 3, 4, 5, 6, 7, 8, 9])"
            ]
          },
          "metadata": {
            "tags": []
          },
          "execution_count": 19
        }
      ]
    },
    {
      "cell_type": "code",
      "metadata": {
        "id": "f53ec31c",
        "outputId": "75852a32-73c8-4bda-b83a-96c453462e60",
        "colab": {
          "base_uri": "https://localhost:8080/"
        }
      },
      "source": [
        "x[:5] # first five elements"
      ],
      "id": "f53ec31c",
      "execution_count": 20,
      "outputs": [
        {
          "output_type": "execute_result",
          "data": {
            "text/plain": [
              "array([0, 1, 2, 3, 4])"
            ]
          },
          "metadata": {
            "tags": []
          },
          "execution_count": 20
        }
      ]
    },
    {
      "cell_type": "code",
      "metadata": {
        "id": "91c5a486",
        "outputId": "b530b8d3-8ac3-4f8c-b4bd-0e0052e062d4",
        "colab": {
          "base_uri": "https://localhost:8080/"
        }
      },
      "source": [
        "x[5:] # elements after index 5"
      ],
      "id": "91c5a486",
      "execution_count": 21,
      "outputs": [
        {
          "output_type": "execute_result",
          "data": {
            "text/plain": [
              "array([5, 6, 7, 8, 9])"
            ]
          },
          "metadata": {
            "tags": []
          },
          "execution_count": 21
        }
      ]
    },
    {
      "cell_type": "code",
      "metadata": {
        "id": "90c68003",
        "outputId": "eaa626b8-925c-4fcc-adf7-6487040e726a",
        "colab": {
          "base_uri": "https://localhost:8080/"
        }
      },
      "source": [
        "x[::2] #every 2nd element beginning with the first"
      ],
      "id": "90c68003",
      "execution_count": 22,
      "outputs": [
        {
          "output_type": "execute_result",
          "data": {
            "text/plain": [
              "array([0, 2, 4, 6, 8])"
            ]
          },
          "metadata": {
            "tags": []
          },
          "execution_count": 22
        }
      ]
    },
    {
      "cell_type": "markdown",
      "metadata": {
        "id": "13d135a8"
      },
      "source": [
        " ## Multi-Dimensional subarrays"
      ],
      "id": "13d135a8"
    },
    {
      "cell_type": "code",
      "metadata": {
        "id": "b8c01a73",
        "outputId": "fd04f6a2-ad1a-498a-f7bc-a44285dd1099",
        "colab": {
          "base_uri": "https://localhost:8080/"
        }
      },
      "source": [
        "x2"
      ],
      "id": "b8c01a73",
      "execution_count": 23,
      "outputs": [
        {
          "output_type": "execute_result",
          "data": {
            "text/plain": [
              "array([[10,  5,  2,  4],\n",
              "       [ 7,  6,  8,  8],\n",
              "       [ 1,  6,  7,  7]])"
            ]
          },
          "metadata": {
            "tags": []
          },
          "execution_count": 23
        }
      ]
    },
    {
      "cell_type": "code",
      "metadata": {
        "id": "b251189b",
        "outputId": "ed0f16cb-7d06-41d6-bc43-06a18383bcd7",
        "colab": {
          "base_uri": "https://localhost:8080/"
        }
      },
      "source": [
        "x2[:2,:3]"
      ],
      "id": "b251189b",
      "execution_count": 24,
      "outputs": [
        {
          "output_type": "execute_result",
          "data": {
            "text/plain": [
              "array([[10,  5,  2],\n",
              "       [ 7,  6,  8]])"
            ]
          },
          "metadata": {
            "tags": []
          },
          "execution_count": 24
        }
      ]
    },
    {
      "cell_type": "code",
      "metadata": {
        "id": "5f449c8b",
        "outputId": "99193dc9-b992-4f4d-93fe-b9d010bb79b0",
        "colab": {
          "base_uri": "https://localhost:8080/"
        }
      },
      "source": [
        "x2[:3,::2]"
      ],
      "id": "5f449c8b",
      "execution_count": 25,
      "outputs": [
        {
          "output_type": "execute_result",
          "data": {
            "text/plain": [
              "array([[10,  2],\n",
              "       [ 7,  8],\n",
              "       [ 1,  7]])"
            ]
          },
          "metadata": {
            "tags": []
          },
          "execution_count": 25
        }
      ]
    },
    {
      "cell_type": "code",
      "metadata": {
        "id": "1f305808",
        "outputId": "b4f1a72b-5241-4c00-c942-955654758907",
        "colab": {
          "base_uri": "https://localhost:8080/"
        }
      },
      "source": [
        "x2[::-1,::-1]"
      ],
      "id": "1f305808",
      "execution_count": 26,
      "outputs": [
        {
          "output_type": "execute_result",
          "data": {
            "text/plain": [
              "array([[ 7,  7,  6,  1],\n",
              "       [ 8,  8,  6,  7],\n",
              "       [ 4,  2,  5, 10]])"
            ]
          },
          "metadata": {
            "tags": []
          },
          "execution_count": 26
        }
      ]
    },
    {
      "cell_type": "code",
      "metadata": {
        "id": "8029af93",
        "outputId": "71049d6f-1229-42f5-8605-89f662ff701f",
        "colab": {
          "base_uri": "https://localhost:8080/"
        }
      },
      "source": [
        "x2[:,0]"
      ],
      "id": "8029af93",
      "execution_count": 27,
      "outputs": [
        {
          "output_type": "execute_result",
          "data": {
            "text/plain": [
              "array([10,  7,  1])"
            ]
          },
          "metadata": {
            "tags": []
          },
          "execution_count": 27
        }
      ]
    },
    {
      "cell_type": "code",
      "metadata": {
        "id": "b0ecb6ad",
        "outputId": "38299348-abf1-4e33-ec0f-fd134f6e734d",
        "colab": {
          "base_uri": "https://localhost:8080/"
        }
      },
      "source": [
        "x2[0]"
      ],
      "id": "b0ecb6ad",
      "execution_count": 28,
      "outputs": [
        {
          "output_type": "execute_result",
          "data": {
            "text/plain": [
              "array([10,  5,  2,  4])"
            ]
          },
          "metadata": {
            "tags": []
          },
          "execution_count": 28
        }
      ]
    },
    {
      "cell_type": "code",
      "metadata": {
        "id": "750dc2c8",
        "outputId": "017233a8-aee0-436c-bb6f-7ba6e80f8ea4",
        "colab": {
          "base_uri": "https://localhost:8080/"
        }
      },
      "source": [
        "x2[0,:]"
      ],
      "id": "750dc2c8",
      "execution_count": 29,
      "outputs": [
        {
          "output_type": "execute_result",
          "data": {
            "text/plain": [
              "array([10,  5,  2,  4])"
            ]
          },
          "metadata": {
            "tags": []
          },
          "execution_count": 29
        }
      ]
    },
    {
      "cell_type": "markdown",
      "metadata": {
        "id": "dba7ea0f"
      },
      "source": [
        "### Copies of arrays\n",
        "One major difference between Numpy array slicing and python list slicing is the fact that, Numpy array slicing does not produce a copy of the slice but rather a _view_ of the slice from the original while python slices produce a copy. Observe:"
      ],
      "id": "dba7ea0f"
    },
    {
      "cell_type": "code",
      "metadata": {
        "scrolled": true,
        "id": "fed22543",
        "outputId": "a56c712b-e505-4fb8-b025-f1968d46d129",
        "colab": {
          "base_uri": "https://localhost:8080/"
        }
      },
      "source": [
        "print(x2)"
      ],
      "id": "fed22543",
      "execution_count": 30,
      "outputs": [
        {
          "output_type": "stream",
          "text": [
            "[[10  5  2  4]\n",
            " [ 7  6  8  8]\n",
            " [ 1  6  7  7]]\n"
          ],
          "name": "stdout"
        }
      ]
    },
    {
      "cell_type": "markdown",
      "metadata": {
        "id": "fa4bb762"
      },
      "source": [
        "Let us extract a 2x2 subarray:"
      ],
      "id": "fa4bb762"
    },
    {
      "cell_type": "code",
      "metadata": {
        "id": "b7bf0fe5",
        "outputId": "bbe3ccfd-52ba-4952-afc4-da82240e892c",
        "colab": {
          "base_uri": "https://localhost:8080/"
        }
      },
      "source": [
        "x2_sub = x2[:2,:2]\n",
        "print(x2_sub)"
      ],
      "id": "b7bf0fe5",
      "execution_count": 31,
      "outputs": [
        {
          "output_type": "stream",
          "text": [
            "[[10  5]\n",
            " [ 7  6]]\n"
          ],
          "name": "stdout"
        }
      ]
    },
    {
      "cell_type": "markdown",
      "metadata": {
        "id": "4cc32d91"
      },
      "source": [
        "Let us then modify the subarray, and you will see that the original is also changed"
      ],
      "id": "4cc32d91"
    },
    {
      "cell_type": "code",
      "metadata": {
        "id": "c763eaa1",
        "outputId": "50fb1940-5ebc-458c-8526-70086d1eaefe",
        "colab": {
          "base_uri": "https://localhost:8080/"
        }
      },
      "source": [
        "x2_sub[0,0]=99\n",
        "print(x2_sub)"
      ],
      "id": "c763eaa1",
      "execution_count": 32,
      "outputs": [
        {
          "output_type": "stream",
          "text": [
            "[[99  5]\n",
            " [ 7  6]]\n"
          ],
          "name": "stdout"
        }
      ]
    },
    {
      "cell_type": "code",
      "metadata": {
        "id": "b769f721",
        "outputId": "fc2e080c-e821-4ce7-9a16-d5f030e92085",
        "colab": {
          "base_uri": "https://localhost:8080/"
        }
      },
      "source": [
        "print(x2)"
      ],
      "id": "b769f721",
      "execution_count": 33,
      "outputs": [
        {
          "output_type": "stream",
          "text": [
            "[[99  5  2  4]\n",
            " [ 7  6  8  8]\n",
            " [ 1  6  7  7]]\n"
          ],
          "name": "stdout"
        }
      ]
    },
    {
      "cell_type": "markdown",
      "metadata": {
        "id": "9d068568"
      },
      "source": [
        "You realize that the original content is changed when we change the subarray. Therefore, to copy a subarray, we need to use the copy() method"
      ],
      "id": "9d068568"
    },
    {
      "cell_type": "code",
      "metadata": {
        "id": "4a28fa0e",
        "outputId": "17592657-9e97-45e0-ca3a-ffbf471a49d1",
        "colab": {
          "base_uri": "https://localhost:8080/"
        }
      },
      "source": [
        "x2_sub_copy = x2[:2,:2].copy()\n",
        "print(x2_sub_copy)"
      ],
      "id": "4a28fa0e",
      "execution_count": 34,
      "outputs": [
        {
          "output_type": "stream",
          "text": [
            "[[99  5]\n",
            " [ 7  6]]\n"
          ],
          "name": "stdout"
        }
      ]
    },
    {
      "cell_type": "code",
      "metadata": {
        "id": "549c34cd",
        "outputId": "4594797a-5b6d-4202-bfe9-b991810e7d49",
        "colab": {
          "base_uri": "https://localhost:8080/"
        }
      },
      "source": [
        "x2_sub_copy[0,0]= 20\n",
        "print(x2_sub_copy)"
      ],
      "id": "549c34cd",
      "execution_count": 35,
      "outputs": [
        {
          "output_type": "stream",
          "text": [
            "[[20  5]\n",
            " [ 7  6]]\n"
          ],
          "name": "stdout"
        }
      ]
    },
    {
      "cell_type": "code",
      "metadata": {
        "id": "27861ea0",
        "outputId": "4c348e6c-a331-447c-d1a6-7da8f8ce1ab1",
        "colab": {
          "base_uri": "https://localhost:8080/"
        }
      },
      "source": [
        "print(x2)"
      ],
      "id": "27861ea0",
      "execution_count": 36,
      "outputs": [
        {
          "output_type": "stream",
          "text": [
            "[[99  5  2  4]\n",
            " [ 7  6  8  8]\n",
            " [ 1  6  7  7]]\n"
          ],
          "name": "stdout"
        }
      ]
    },
    {
      "cell_type": "markdown",
      "metadata": {
        "id": "daa5b50c"
      },
      "source": [
        "## Reshaping Arrays\n",
        "Arrays can be reshaped using *reshape* method or use of _newaxis_ keyword with a slice operator"
      ],
      "id": "daa5b50c"
    },
    {
      "cell_type": "code",
      "metadata": {
        "id": "caf1a361",
        "outputId": "92f16968-9264-4e92-f1bc-6103cfd3eafc",
        "colab": {
          "base_uri": "https://localhost:8080/"
        }
      },
      "source": [
        "x = np.array([1,2,3,4])\n",
        "x.reshape((1,4))"
      ],
      "id": "caf1a361",
      "execution_count": 37,
      "outputs": [
        {
          "output_type": "execute_result",
          "data": {
            "text/plain": [
              "array([[1, 2, 3, 4]])"
            ]
          },
          "metadata": {
            "tags": []
          },
          "execution_count": 37
        }
      ]
    },
    {
      "cell_type": "code",
      "metadata": {
        "id": "8a6cda88",
        "outputId": "2bf3748d-b8ed-40df-9df6-c5c4a2d60e74",
        "colab": {
          "base_uri": "https://localhost:8080/"
        }
      },
      "source": [
        "x[np.newaxis,:]"
      ],
      "id": "8a6cda88",
      "execution_count": 38,
      "outputs": [
        {
          "output_type": "execute_result",
          "data": {
            "text/plain": [
              "array([[1, 2, 3, 4]])"
            ]
          },
          "metadata": {
            "tags": []
          },
          "execution_count": 38
        }
      ]
    },
    {
      "cell_type": "code",
      "metadata": {
        "id": "5c7408b4",
        "outputId": "af8033f6-fa1f-4805-8ea1-0368a2c11422",
        "colab": {
          "base_uri": "https://localhost:8080/"
        }
      },
      "source": [
        "x[:,np.newaxis]"
      ],
      "id": "5c7408b4",
      "execution_count": 39,
      "outputs": [
        {
          "output_type": "execute_result",
          "data": {
            "text/plain": [
              "array([[1],\n",
              "       [2],\n",
              "       [3],\n",
              "       [4]])"
            ]
          },
          "metadata": {
            "tags": []
          },
          "execution_count": 39
        }
      ]
    },
    {
      "cell_type": "markdown",
      "metadata": {
        "id": "341c2158"
      },
      "source": [
        "# Concatenation and Splitting"
      ],
      "id": "341c2158"
    },
    {
      "cell_type": "code",
      "metadata": {
        "id": "823d5ad4",
        "outputId": "30c31192-ff60-4c1b-e12a-7e7f7f23f4c9",
        "colab": {
          "base_uri": "https://localhost:8080/"
        }
      },
      "source": [
        "x = np.array([1,2,3])\n",
        "y = np.array([3,2,1])\n",
        "np.concatenate([x,y])"
      ],
      "id": "823d5ad4",
      "execution_count": 40,
      "outputs": [
        {
          "output_type": "execute_result",
          "data": {
            "text/plain": [
              "array([1, 2, 3, 3, 2, 1])"
            ]
          },
          "metadata": {
            "tags": []
          },
          "execution_count": 40
        }
      ]
    },
    {
      "cell_type": "code",
      "metadata": {
        "id": "3284afc9",
        "outputId": "ffd31cde-44a5-408e-ee09-f83ce3fc7fe0",
        "colab": {
          "base_uri": "https://localhost:8080/"
        }
      },
      "source": [
        "z = np.array([9,4,1])\n",
        "print(np.concatenate([x,y,z]))"
      ],
      "id": "3284afc9",
      "execution_count": 41,
      "outputs": [
        {
          "output_type": "stream",
          "text": [
            "[1 2 3 3 2 1 9 4 1]\n"
          ],
          "name": "stdout"
        }
      ]
    },
    {
      "cell_type": "code",
      "metadata": {
        "id": "45b56c60"
      },
      "source": [
        "grid = np.array([[1,2,3],\n",
        "                [4,5,6]])"
      ],
      "id": "45b56c60",
      "execution_count": 42,
      "outputs": []
    },
    {
      "cell_type": "code",
      "metadata": {
        "id": "89ac9c71",
        "outputId": "97d1515b-7de9-4aec-8eda-e3178bebc744",
        "colab": {
          "base_uri": "https://localhost:8080/"
        }
      },
      "source": [
        "# concatenate along teh first axes\n",
        "np.concatenate([grid,grid*10])"
      ],
      "id": "89ac9c71",
      "execution_count": 43,
      "outputs": [
        {
          "output_type": "execute_result",
          "data": {
            "text/plain": [
              "array([[ 1,  2,  3],\n",
              "       [ 4,  5,  6],\n",
              "       [10, 20, 30],\n",
              "       [40, 50, 60]])"
            ]
          },
          "metadata": {
            "tags": []
          },
          "execution_count": 43
        }
      ]
    },
    {
      "cell_type": "code",
      "metadata": {
        "id": "7aa98883",
        "outputId": "447592c1-f49f-480e-da52-7d33ae99d9d9",
        "colab": {
          "base_uri": "https://localhost:8080/"
        }
      },
      "source": [
        "np.concatenate([grid,grid*10], axis=1)"
      ],
      "id": "7aa98883",
      "execution_count": 44,
      "outputs": [
        {
          "output_type": "execute_result",
          "data": {
            "text/plain": [
              "array([[ 1,  2,  3, 10, 20, 30],\n",
              "       [ 4,  5,  6, 40, 50, 60]])"
            ]
          },
          "metadata": {
            "tags": []
          },
          "execution_count": 44
        }
      ]
    },
    {
      "cell_type": "code",
      "metadata": {
        "id": "564527ba",
        "outputId": "d6d17a1e-1844-4f28-b8d8-8e147f4599ac",
        "colab": {
          "base_uri": "https://localhost:8080/"
        }
      },
      "source": [
        "x = np.array([1,2,3])\n",
        "grid = np.array([[9,8,7],\n",
        "                [6,5,4]])\n",
        "np.vstack([x,grid])"
      ],
      "id": "564527ba",
      "execution_count": 45,
      "outputs": [
        {
          "output_type": "execute_result",
          "data": {
            "text/plain": [
              "array([[1, 2, 3],\n",
              "       [9, 8, 7],\n",
              "       [6, 5, 4]])"
            ]
          },
          "metadata": {
            "tags": []
          },
          "execution_count": 45
        }
      ]
    },
    {
      "cell_type": "code",
      "metadata": {
        "id": "7dc2ca99",
        "outputId": "a4cac556-f2a1-4973-8baa-d22edaf0c517",
        "colab": {
          "base_uri": "https://localhost:8080/"
        }
      },
      "source": [
        "y = np.array([[2],\n",
        "              [2]])\n",
        "np.hstack([grid,y])"
      ],
      "id": "7dc2ca99",
      "execution_count": 46,
      "outputs": [
        {
          "output_type": "execute_result",
          "data": {
            "text/plain": [
              "array([[9, 8, 7, 2],\n",
              "       [6, 5, 4, 2]])"
            ]
          },
          "metadata": {
            "tags": []
          },
          "execution_count": 46
        }
      ]
    },
    {
      "cell_type": "code",
      "metadata": {
        "id": "7b1ffae6",
        "outputId": "31d6298d-c3ed-4073-deb8-c3508e722cb2",
        "colab": {
          "base_uri": "https://localhost:8080/"
        }
      },
      "source": [
        "np.dstack([x,x])"
      ],
      "id": "7b1ffae6",
      "execution_count": 47,
      "outputs": [
        {
          "output_type": "execute_result",
          "data": {
            "text/plain": [
              "array([[[1, 1],\n",
              "        [2, 2],\n",
              "        [3, 3]]])"
            ]
          },
          "metadata": {
            "tags": []
          },
          "execution_count": 47
        }
      ]
    },
    {
      "cell_type": "code",
      "metadata": {
        "id": "2948486f",
        "outputId": "1940da8a-5cd5-425b-d2e7-3c2109497556",
        "colab": {
          "base_uri": "https://localhost:8080/"
        }
      },
      "source": [
        "np.vstack([x,x])"
      ],
      "id": "2948486f",
      "execution_count": 48,
      "outputs": [
        {
          "output_type": "execute_result",
          "data": {
            "text/plain": [
              "array([[1, 2, 3],\n",
              "       [1, 2, 3]])"
            ]
          },
          "metadata": {
            "tags": []
          },
          "execution_count": 48
        }
      ]
    },
    {
      "cell_type": "code",
      "metadata": {
        "id": "352e1fb0",
        "outputId": "65ec09d1-5ec1-445d-b8ed-218ac664cb35",
        "colab": {
          "base_uri": "https://localhost:8080/"
        }
      },
      "source": [
        "np.hstack([x,x])"
      ],
      "id": "352e1fb0",
      "execution_count": 49,
      "outputs": [
        {
          "output_type": "execute_result",
          "data": {
            "text/plain": [
              "array([1, 2, 3, 1, 2, 3])"
            ]
          },
          "metadata": {
            "tags": []
          },
          "execution_count": 49
        }
      ]
    },
    {
      "cell_type": "markdown",
      "metadata": {
        "id": "b603268a"
      },
      "source": [
        "## Splitting Arrays"
      ],
      "id": "b603268a"
    },
    {
      "cell_type": "code",
      "metadata": {
        "id": "a11fd2e2",
        "outputId": "ecf71876-3d59-485b-daf7-0e9b94cc469b",
        "colab": {
          "base_uri": "https://localhost:8080/"
        }
      },
      "source": [
        "x = np.array([1,2,3,1,4,9,1,8,27])\n",
        "x1,x2,x3=np.split(x,[3,6])\n",
        "print(x1,x2,x3)"
      ],
      "id": "a11fd2e2",
      "execution_count": 50,
      "outputs": [
        {
          "output_type": "stream",
          "text": [
            "[1 2 3] [1 4 9] [ 1  8 27]\n"
          ],
          "name": "stdout"
        }
      ]
    },
    {
      "cell_type": "code",
      "metadata": {
        "id": "6d051a76",
        "outputId": "7bc3d153-340a-441a-e033-63948af2372e",
        "colab": {
          "base_uri": "https://localhost:8080/"
        }
      },
      "source": [
        "grid = np.arange(16).reshape((4,4))\n",
        "grid"
      ],
      "id": "6d051a76",
      "execution_count": 51,
      "outputs": [
        {
          "output_type": "execute_result",
          "data": {
            "text/plain": [
              "array([[ 0,  1,  2,  3],\n",
              "       [ 4,  5,  6,  7],\n",
              "       [ 8,  9, 10, 11],\n",
              "       [12, 13, 14, 15]])"
            ]
          },
          "metadata": {
            "tags": []
          },
          "execution_count": 51
        }
      ]
    },
    {
      "cell_type": "code",
      "metadata": {
        "id": "Qo3zHovFFChp",
        "outputId": "8c1fbad3-2728-4c9e-ab05-f633d8a467e5",
        "colab": {
          "base_uri": "https://localhost:8080/"
        }
      },
      "source": [
        "upper, lower = np.vsplit(grid,[2])\n",
        "print(upper)\n",
        "print(lower)"
      ],
      "id": "Qo3zHovFFChp",
      "execution_count": 54,
      "outputs": [
        {
          "output_type": "stream",
          "text": [
            "[[0 1 2 3]\n",
            " [4 5 6 7]]\n",
            "[[ 8  9 10 11]\n",
            " [12 13 14 15]]\n"
          ],
          "name": "stdout"
        }
      ]
    },
    {
      "cell_type": "code",
      "metadata": {
        "id": "DeSJziL6FhEb",
        "outputId": "9fa0418d-efa4-4d2a-ea40-6b0296754aed",
        "colab": {
          "base_uri": "https://localhost:8080/"
        }
      },
      "source": [
        "left,right = np.hsplit(grid,[2])\n",
        "print(left)\n",
        "print(right)"
      ],
      "id": "DeSJziL6FhEb",
      "execution_count": 56,
      "outputs": [
        {
          "output_type": "stream",
          "text": [
            "[[ 0  1]\n",
            " [ 4  5]\n",
            " [ 8  9]\n",
            " [12 13]]\n",
            "[[ 2  3]\n",
            " [ 6  7]\n",
            " [10 11]\n",
            " [14 15]]\n"
          ],
          "name": "stdout"
        }
      ]
    },
    {
      "cell_type": "code",
      "metadata": {
        "id": "OI2njPURFn9p"
      },
      "source": [
        ""
      ],
      "id": "OI2njPURFn9p",
      "execution_count": null,
      "outputs": []
    }
  ]
}